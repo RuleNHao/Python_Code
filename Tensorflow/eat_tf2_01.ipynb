{
 "cells": [
  {
   "cell_type": "code",
   "execution_count": 1,
   "metadata": {},
   "outputs": [],
   "source": [
    "import os\n",
    "os.environ['TF_CPP_MIN_LOG_LEVEL']='2'\n",
    "import numpy as np\n",
    "import pandas as pd\n",
    "import matplotlib.pyplot as plt\n",
    "import tensorflow as tf\n",
    "from tensorflow.keras import models,layers"
   ]
  },
  {
   "cell_type": "code",
   "execution_count": 2,
   "metadata": {},
   "outputs": [
    {
     "data": {
      "text/html": [
       "<div>\n",
       "<style scoped>\n",
       "    .dataframe tbody tr th:only-of-type {\n",
       "        vertical-align: middle;\n",
       "    }\n",
       "\n",
       "    .dataframe tbody tr th {\n",
       "        vertical-align: top;\n",
       "    }\n",
       "\n",
       "    .dataframe thead th {\n",
       "        text-align: right;\n",
       "    }\n",
       "</style>\n",
       "<table border=\"1\" class=\"dataframe\">\n",
       "  <thead>\n",
       "    <tr style=\"text-align: right;\">\n",
       "      <th></th>\n",
       "      <th>PassengerId</th>\n",
       "      <th>Survived</th>\n",
       "      <th>Pclass</th>\n",
       "      <th>Name</th>\n",
       "      <th>Sex</th>\n",
       "      <th>Age</th>\n",
       "      <th>SibSp</th>\n",
       "      <th>Parch</th>\n",
       "      <th>Ticket</th>\n",
       "      <th>Fare</th>\n",
       "      <th>Cabin</th>\n",
       "      <th>Embarked</th>\n",
       "    </tr>\n",
       "  </thead>\n",
       "  <tbody>\n",
       "    <tr>\n",
       "      <th>0</th>\n",
       "      <td>493</td>\n",
       "      <td>0</td>\n",
       "      <td>1</td>\n",
       "      <td>Molson, Mr. Harry Markland</td>\n",
       "      <td>male</td>\n",
       "      <td>55.0</td>\n",
       "      <td>0</td>\n",
       "      <td>0</td>\n",
       "      <td>113787</td>\n",
       "      <td>30.5000</td>\n",
       "      <td>C30</td>\n",
       "      <td>S</td>\n",
       "    </tr>\n",
       "    <tr>\n",
       "      <th>1</th>\n",
       "      <td>53</td>\n",
       "      <td>1</td>\n",
       "      <td>1</td>\n",
       "      <td>Harper, Mrs. Henry Sleeper (Myna Haxtun)</td>\n",
       "      <td>female</td>\n",
       "      <td>49.0</td>\n",
       "      <td>1</td>\n",
       "      <td>0</td>\n",
       "      <td>PC 17572</td>\n",
       "      <td>76.7292</td>\n",
       "      <td>D33</td>\n",
       "      <td>C</td>\n",
       "    </tr>\n",
       "    <tr>\n",
       "      <th>2</th>\n",
       "      <td>388</td>\n",
       "      <td>1</td>\n",
       "      <td>2</td>\n",
       "      <td>Buss, Miss. Kate</td>\n",
       "      <td>female</td>\n",
       "      <td>36.0</td>\n",
       "      <td>0</td>\n",
       "      <td>0</td>\n",
       "      <td>27849</td>\n",
       "      <td>13.0000</td>\n",
       "      <td>NaN</td>\n",
       "      <td>S</td>\n",
       "    </tr>\n",
       "    <tr>\n",
       "      <th>3</th>\n",
       "      <td>192</td>\n",
       "      <td>0</td>\n",
       "      <td>2</td>\n",
       "      <td>Carbines, Mr. William</td>\n",
       "      <td>male</td>\n",
       "      <td>19.0</td>\n",
       "      <td>0</td>\n",
       "      <td>0</td>\n",
       "      <td>28424</td>\n",
       "      <td>13.0000</td>\n",
       "      <td>NaN</td>\n",
       "      <td>S</td>\n",
       "    </tr>\n",
       "    <tr>\n",
       "      <th>4</th>\n",
       "      <td>687</td>\n",
       "      <td>0</td>\n",
       "      <td>3</td>\n",
       "      <td>Panula, Mr. Jaako Arnold</td>\n",
       "      <td>male</td>\n",
       "      <td>14.0</td>\n",
       "      <td>4</td>\n",
       "      <td>1</td>\n",
       "      <td>3101295</td>\n",
       "      <td>39.6875</td>\n",
       "      <td>NaN</td>\n",
       "      <td>S</td>\n",
       "    </tr>\n",
       "    <tr>\n",
       "      <th>5</th>\n",
       "      <td>16</td>\n",
       "      <td>1</td>\n",
       "      <td>2</td>\n",
       "      <td>Hewlett, Mrs. (Mary D Kingcome)</td>\n",
       "      <td>female</td>\n",
       "      <td>55.0</td>\n",
       "      <td>0</td>\n",
       "      <td>0</td>\n",
       "      <td>248706</td>\n",
       "      <td>16.0000</td>\n",
       "      <td>NaN</td>\n",
       "      <td>S</td>\n",
       "    </tr>\n",
       "    <tr>\n",
       "      <th>6</th>\n",
       "      <td>228</td>\n",
       "      <td>0</td>\n",
       "      <td>3</td>\n",
       "      <td>Lovell, Mr. John Hall (\"Henry\")</td>\n",
       "      <td>male</td>\n",
       "      <td>20.5</td>\n",
       "      <td>0</td>\n",
       "      <td>0</td>\n",
       "      <td>A/5 21173</td>\n",
       "      <td>7.2500</td>\n",
       "      <td>NaN</td>\n",
       "      <td>S</td>\n",
       "    </tr>\n",
       "    <tr>\n",
       "      <th>7</th>\n",
       "      <td>884</td>\n",
       "      <td>0</td>\n",
       "      <td>2</td>\n",
       "      <td>Banfield, Mr. Frederick James</td>\n",
       "      <td>male</td>\n",
       "      <td>28.0</td>\n",
       "      <td>0</td>\n",
       "      <td>0</td>\n",
       "      <td>C.A./SOTON 34068</td>\n",
       "      <td>10.5000</td>\n",
       "      <td>NaN</td>\n",
       "      <td>S</td>\n",
       "    </tr>\n",
       "    <tr>\n",
       "      <th>8</th>\n",
       "      <td>168</td>\n",
       "      <td>0</td>\n",
       "      <td>3</td>\n",
       "      <td>Skoog, Mrs. William (Anna Bernhardina Karlsson)</td>\n",
       "      <td>female</td>\n",
       "      <td>45.0</td>\n",
       "      <td>1</td>\n",
       "      <td>4</td>\n",
       "      <td>347088</td>\n",
       "      <td>27.9000</td>\n",
       "      <td>NaN</td>\n",
       "      <td>S</td>\n",
       "    </tr>\n",
       "    <tr>\n",
       "      <th>9</th>\n",
       "      <td>752</td>\n",
       "      <td>1</td>\n",
       "      <td>3</td>\n",
       "      <td>Moor, Master. Meier</td>\n",
       "      <td>male</td>\n",
       "      <td>6.0</td>\n",
       "      <td>0</td>\n",
       "      <td>1</td>\n",
       "      <td>392096</td>\n",
       "      <td>12.4750</td>\n",
       "      <td>E121</td>\n",
       "      <td>S</td>\n",
       "    </tr>\n",
       "  </tbody>\n",
       "</table>\n",
       "</div>"
      ],
      "text/plain": [
       "   PassengerId  Survived  Pclass  \\\n",
       "0          493         0       1   \n",
       "1           53         1       1   \n",
       "2          388         1       2   \n",
       "3          192         0       2   \n",
       "4          687         0       3   \n",
       "5           16         1       2   \n",
       "6          228         0       3   \n",
       "7          884         0       2   \n",
       "8          168         0       3   \n",
       "9          752         1       3   \n",
       "\n",
       "                                              Name     Sex   Age  SibSp  \\\n",
       "0                       Molson, Mr. Harry Markland    male  55.0      0   \n",
       "1         Harper, Mrs. Henry Sleeper (Myna Haxtun)  female  49.0      1   \n",
       "2                                 Buss, Miss. Kate  female  36.0      0   \n",
       "3                            Carbines, Mr. William    male  19.0      0   \n",
       "4                         Panula, Mr. Jaako Arnold    male  14.0      4   \n",
       "5                 Hewlett, Mrs. (Mary D Kingcome)   female  55.0      0   \n",
       "6                  Lovell, Mr. John Hall (\"Henry\")    male  20.5      0   \n",
       "7                    Banfield, Mr. Frederick James    male  28.0      0   \n",
       "8  Skoog, Mrs. William (Anna Bernhardina Karlsson)  female  45.0      1   \n",
       "9                              Moor, Master. Meier    male   6.0      0   \n",
       "\n",
       "   Parch            Ticket     Fare Cabin Embarked  \n",
       "0      0            113787  30.5000   C30        S  \n",
       "1      0          PC 17572  76.7292   D33        C  \n",
       "2      0             27849  13.0000   NaN        S  \n",
       "3      0             28424  13.0000   NaN        S  \n",
       "4      1           3101295  39.6875   NaN        S  \n",
       "5      0            248706  16.0000   NaN        S  \n",
       "6      0         A/5 21173   7.2500   NaN        S  \n",
       "7      0  C.A./SOTON 34068  10.5000   NaN        S  \n",
       "8      4            347088  27.9000   NaN        S  \n",
       "9      1            392096  12.4750  E121        S  "
      ]
     },
     "execution_count": 2,
     "metadata": {},
     "output_type": "execute_result"
    }
   ],
   "source": [
    "dftrain_raw = pd.read_csv('./data/titanic/train.csv')\n",
    "dftest_raw = pd.read_csv('./data/titanic/test.csv')\n",
    "dftrain_raw.head(10)"
   ]
  },
  {
   "cell_type": "code",
   "execution_count": 3,
   "metadata": {},
   "outputs": [
    {
     "data": {
      "image/png": "[encoded data removed]",
      "text/plain": [
       "<Figure size 864x576 with 1 Axes>"
      ]
     },
     "metadata": {
      "needs_background": "light"
     },
     "output_type": "display_data"
    }
   ],
   "source": [
    "%matplotlib inline\n",
    "%config InlineBackend.fingure_font = 'png'\n",
    "ax = dftrain_raw['Survived'].value_counts().plot(kind = 'bar',\n",
    "     figsize = (12,8),fontsize=15,rot = 0)\n",
    "ax.set_ylabel('Counts',fontsize = 15)\n",
    "ax.set_xlabel('Survived',fontsize = 15)\n",
    "plt.show()"
   ]
  },
  {
   "cell_type": "code",
   "execution_count": 4,
   "metadata": {},
   "outputs": [
    {
     "data": {
      "image/png": "[encoded data removed]",
      "text/plain": [
       "<Figure size 864x576 with 1 Axes>"
      ]
     },
     "metadata": {
      "needs_background": "light"
     },
     "output_type": "display_data"
    }
   ],
   "source": [
    "ax = dftrain_raw['Age'].plot(kind = 'hist', bins = 20, color = 'black',\n",
    "                            figsize = (12, 8), fontsize = 15)\n",
    "ax.set_xlabel('Age', fontsize = 15)\n",
    "ax.set_ylabel('Frequency', fontsize = 15)\n",
    "plt.show()"
   ]
  },
  {
   "cell_type": "code",
   "execution_count": 5,
   "metadata": {},
   "outputs": [
    {
     "data": {
      "image/png": "[encoded data removed]",
      "text/plain": [
       "<Figure size 864x576 with 1 Axes>"
      ]
     },
     "metadata": {
      "needs_background": "light"
     },
     "output_type": "display_data"
    }
   ],
   "source": [
    "ax = dftrain_raw.query('Survived == 0')['Age'].plot(kind = 'density', figsize = (12,8), fontsize=15)\n",
    "dftrain_raw.query('Survived == 1')['Age'].plot(kind='density', figsize=(12, 8), fontsize=15)\n",
    "ax.legend(['Survived=0', 'Survived=1'], fontsize=12)\n",
    "ax.set_xlabel('Age', fontsize=15)\n",
    "ax.set_ylabel('Density', fontsize=15)\n",
    "plt.show()"
   ]
  },
  {
   "cell_type": "code",
   "execution_count": 6,
   "metadata": {},
   "outputs": [],
   "source": [
    "#数据预处理\n",
    "\n",
    "def preprocessing(dfdata):\n",
    "    dfresult = pd.DataFrame()\n",
    "    \n",
    "    #Pclass\n",
    "    dfPclass = pd.get_dummies(dfdata['Pclass']) #将原始数据中的序列变成DataFrame的形式\n",
    "    dfPclass.columns = ['Pclass_' +str(x) for x in dfPclass.columns] #设定相应的列名字\n",
    "    dfresult = pd.concat([dfresult, dfPclass], axis=1) #将dfClass水平并入dfresult中，原来的dfresult是空内容\n",
    "    \n",
    "    #Sex\n",
    "    #对Sex列做同样的处理\n",
    "    dfSex = pd.get_dummies(dfdata['Sex'])\n",
    "    dfresult = pd.concat([dfresult, dfSex], axis=1)\n",
    "    \n",
    "    #Embarked\n",
    "    dfEmbarked = pd.get_dummies(dfdata['Embarked'], dummy_na=True) #在DataFrame结构中加入NaN一列，将未知上船地点的数据提取出来\n",
    "    dfEmbarked.columns = ['Embarked_' +str(x) for x in dfEmbarked.columns]\n",
    "    dfresult = pd.concat([dfresult, dfEmbarked], axis=1)\n",
    "    \n",
    "    \n",
    "    #Age\n",
    "    dfresult['Age'] = dfdata['Age'].fillna(0) #将未知年龄的位置用0填充\n",
    "    dfresult['Age_null'] = pd.isna(dfdata['Age']).astype('int32') #在列'Age_null'中，将没有年龄的位置用1填充，有年龄的位置为0\n",
    "    #Carbin\n",
    "    dfresult['Cabin_null'] = pd.isna(dfdata['Cabin']).astype('int32') #同上，创建新列'Carbin_null'，其中没有名字为1，有名字为0\n",
    "    \n",
    "    #Sibsp, Parch, Fare\n",
    "    dfresult['SibSp'] = dfdata['SibSp']\n",
    "    dfresult['Parch'] = dfdata['Parch']\n",
    "    dfresult['Fare'] = dfdata['Fare'] #将不那么重要的数据直接加入dfreslut中\n",
    "    \n",
    "    return dfresult"
   ]
  },
  {
   "cell_type": "code",
   "execution_count": 7,
   "metadata": {},
   "outputs": [
    {
     "name": "stdout",
     "output_type": "stream",
     "text": [
      "(712, 15)\n",
      "(712,)\n",
      "(179, 15)\n",
      "(179,)\n"
     ]
    }
   ],
   "source": [
    "x_train = preprocessing(dftrain_raw)\n",
    "y_train = dftrain_raw['Survived'].values\n",
    "\n",
    "x_test = preprocessing(dftest_raw)\n",
    "y_test = dftest_raw['Survived'].values\n",
    "\n",
    "print(x_train.shape)\n",
    "print(y_train.shape)\n",
    "print(x_test.shape)\n",
    "print(y_test.shape)"
   ]
  },
  {
   "cell_type": "code",
   "execution_count": 8,
   "metadata": {},
   "outputs": [
    {
     "name": "stdout",
     "output_type": "stream",
     "text": [
      "Model: \"sequential\"\n",
      "_________________________________________________________________\n",
      "Layer (type)                 Output Shape              Param #   \n",
      "=================================================================\n",
      "dense (Dense)                (None, 20)                320       \n",
      "_________________________________________________________________\n",
      "dense_1 (Dense)              (None, 10)                210       \n",
      "_________________________________________________________________\n",
      "dense_2 (Dense)              (None, 1)                 11        \n",
      "=================================================================\n",
      "Total params: 541\n",
      "Trainable params: 541\n",
      "Non-trainable params: 0\n",
      "_________________________________________________________________\n"
     ]
    }
   ],
   "source": [
    "tf.keras.backend.clear_session()\n",
    "\n",
    "model = tf.keras.Sequential()\n",
    "model.add(layers.Dense(20, activation='relu', input_shape=(15,)))\n",
    "model.add(layers.Dense(10, activation='relu'))\n",
    "model.add(layers.Dense(1, activation='sigmoid'))\n",
    "\n",
    "model.summary()\n"
   ]
  },
  {
   "cell_type": "code",
   "execution_count": 9,
   "metadata": {},
   "outputs": [
    {
     "name": "stdout",
     "output_type": "stream",
     "text": [
      "Epoch 1/30\n",
      "1/9 [==>...........................] - ETA: 0s - loss: 3.1148 - auc: 0.4749WARNING:tensorflow:Callbacks method `on_test_batch_begin` is slow compared to the batch time (batch time: 0.0000s vs `on_test_batch_begin` time: 0.0010s). Check your callbacks.\n",
      "9/9 [==============================] - 1s 57ms/step - loss: 2.0026 - auc: 0.5379 - val_loss: 1.9686 - val_auc: 0.5429\n",
      "Epoch 2/30\n",
      "9/9 [==============================] - 0s 3ms/step - loss: 1.5238 - auc: 0.5401 - val_loss: 1.4919 - val_auc: 0.5557\n",
      "Epoch 3/30\n",
      "9/9 [==============================] - 0s 3ms/step - loss: 1.1459 - auc: 0.5484 - val_loss: 1.1325 - val_auc: 0.5624\n",
      "Epoch 4/30\n",
      "9/9 [==============================] - 0s 3ms/step - loss: 0.9646 - auc: 0.5182 - val_loss: 0.8541 - val_auc: 0.5631\n",
      "Epoch 5/30\n",
      "9/9 [==============================] - 0s 3ms/step - loss: 0.8320 - auc: 0.4907 - val_loss: 0.7235 - val_auc: 0.5789\n",
      "Epoch 6/30\n",
      "9/9 [==============================] - 0s 3ms/step - loss: 0.7675 - auc: 0.5244 - val_loss: 0.6626 - val_auc: 0.6365\n",
      "Epoch 7/30\n",
      "9/9 [==============================] - 0s 3ms/step - loss: 0.7034 - auc: 0.5586 - val_loss: 0.6224 - val_auc: 0.6704\n",
      "Epoch 8/30\n",
      "9/9 [==============================] - 0s 4ms/step - loss: 0.6590 - auc: 0.6080 - val_loss: 0.5986 - val_auc: 0.7082\n",
      "Epoch 9/30\n",
      "9/9 [==============================] - 0s 3ms/step - loss: 0.6369 - auc: 0.6410 - val_loss: 0.5885 - val_auc: 0.7209\n",
      "Epoch 10/30\n",
      "9/9 [==============================] - 0s 3ms/step - loss: 0.6081 - auc: 0.6856 - val_loss: 0.5813 - val_auc: 0.7374\n",
      "Epoch 11/30\n",
      "9/9 [==============================] - 0s 3ms/step - loss: 0.5905 - auc: 0.7253 - val_loss: 0.5799 - val_auc: 0.7514\n",
      "Epoch 12/30\n",
      "9/9 [==============================] - 0s 3ms/step - loss: 0.5730 - auc: 0.7491 - val_loss: 0.5830 - val_auc: 0.7516\n",
      "Epoch 13/30\n",
      "9/9 [==============================] - 0s 3ms/step - loss: 0.5593 - auc: 0.7703 - val_loss: 0.5834 - val_auc: 0.7537\n",
      "Epoch 14/30\n",
      "9/9 [==============================] - 0s 3ms/step - loss: 0.5501 - auc: 0.7852 - val_loss: 0.5873 - val_auc: 0.7508\n",
      "Epoch 15/30\n",
      "9/9 [==============================] - 0s 3ms/step - loss: 0.5470 - auc: 0.7916 - val_loss: 0.5898 - val_auc: 0.7545\n",
      "Epoch 16/30\n",
      "9/9 [==============================] - 0s 3ms/step - loss: 0.5440 - auc: 0.7960 - val_loss: 0.5858 - val_auc: 0.7555\n",
      "Epoch 17/30\n",
      "9/9 [==============================] - 0s 3ms/step - loss: 0.5366 - auc: 0.8081 - val_loss: 0.5818 - val_auc: 0.7587\n",
      "Epoch 18/30\n",
      "9/9 [==============================] - 0s 3ms/step - loss: 0.5305 - auc: 0.8125 - val_loss: 0.5812 - val_auc: 0.7605\n",
      "Epoch 19/30\n",
      "9/9 [==============================] - 0s 3ms/step - loss: 0.5245 - auc: 0.8173 - val_loss: 0.5844 - val_auc: 0.7655\n",
      "Epoch 20/30\n",
      "9/9 [==============================] - 0s 3ms/step - loss: 0.5230 - auc: 0.8212 - val_loss: 0.5810 - val_auc: 0.7608\n",
      "Epoch 21/30\n",
      "9/9 [==============================] - 0s 3ms/step - loss: 0.5242 - auc: 0.8174 - val_loss: 0.5824 - val_auc: 0.7687\n",
      "Epoch 22/30\n",
      "9/9 [==============================] - 0s 3ms/step - loss: 0.5115 - auc: 0.8314 - val_loss: 0.5723 - val_auc: 0.7652\n",
      "Epoch 23/30\n",
      "9/9 [==============================] - 0s 3ms/step - loss: 0.5199 - auc: 0.8253 - val_loss: 0.5714 - val_auc: 0.7714\n",
      "Epoch 24/30\n",
      "9/9 [==============================] - 0s 3ms/step - loss: 0.5125 - auc: 0.8352 - val_loss: 0.5727 - val_auc: 0.7690\n",
      "Epoch 25/30\n",
      "9/9 [==============================] - 0s 3ms/step - loss: 0.5084 - auc: 0.8347 - val_loss: 0.5649 - val_auc: 0.7732\n",
      "Epoch 26/30\n",
      "9/9 [==============================] - 0s 3ms/step - loss: 0.4958 - auc: 0.8392 - val_loss: 0.5653 - val_auc: 0.7735\n",
      "Epoch 27/30\n",
      "9/9 [==============================] - 0s 3ms/step - loss: 0.4901 - auc: 0.8467 - val_loss: 0.5629 - val_auc: 0.7760\n",
      "Epoch 28/30\n",
      "9/9 [==============================] - 0s 3ms/step - loss: 0.4869 - auc: 0.8473 - val_loss: 0.5578 - val_auc: 0.7776\n",
      "Epoch 29/30\n",
      "9/9 [==============================] - 0s 3ms/step - loss: 0.4842 - auc: 0.8525 - val_loss: 0.5552 - val_auc: 0.7830\n",
      "Epoch 30/30\n",
      "9/9 [==============================] - 0s 3ms/step - loss: 0.4837 - auc: 0.8482 - val_loss: 0.5648 - val_auc: 0.7847\n"
     ]
    }
   ],
   "source": [
    "#选择最简单的fit内置函数训练，优化方法为Adam，AUC用来评判优化程度\n",
    "model.compile(optimizer='adam',\n",
    "             loss='binary_crossentropy',\n",
    "             metrics=['AUC'])\n",
    "\n",
    "history = model.fit(x_train, y_train,\n",
    "                   batch_size= 64,\n",
    "                   epochs= 30,\n",
    "                   validation_split= 0.2)\n",
    "#分割一部分训练数据用于验证"
   ]
  },
  {
   "cell_type": "code",
   "execution_count": 10,
   "metadata": {},
   "outputs": [],
   "source": [
    "def plot_metric(history, metric):\n",
    "    train_metrics = history.history[metric]\n",
    "    val_metrics = history.history['val_'+metric]\n",
    "    epochs = range(1, len(train_metrics)+1)\n",
    "    plt.plot(epochs, train_metrics, 'bo--')\n",
    "    plt.plot(epochs, val_metrics, 'ro-')\n",
    "    plt.title('Training and Validation '+ metric)\n",
    "    plt.xlabel('Epochs')\n",
    "    plt.ylabel(metric)\n",
    "    plt.legend(['train_'+metric, 'Val_'+metric])\n",
    "    plt.show()"
   ]
  },
  {
   "cell_type": "code",
   "execution_count": 12,
   "metadata": {},
   "outputs": [
    {
     "data": {
      "image/png": "[encoded data removed]",
      "text/plain": [
       "<Figure size 432x288 with 1 Axes>"
      ]
     },
     "metadata": {
      "needs_background": "light"
     },
     "output_type": "display_data"
    }
   ],
   "source": [
    "plot_metric(history, 'loss')"
   ]
  },
  {
   "cell_type": "code",
   "execution_count": 13,
   "metadata": {},
   "outputs": [
    {
     "data": {
      "image/png": "[encoded data removed]",
      "text/plain": [
       "<Figure size 432x288 with 1 Axes>"
      ]
     },
     "metadata": {
      "needs_background": "light"
     },
     "output_type": "display_data"
    }
   ],
   "source": [
    "plot_metric(history, 'auc')"
   ]
  },
  {
   "cell_type": "code",
   "execution_count": 14,
   "metadata": {},
   "outputs": [
    {
     "name": "stdout",
     "output_type": "stream",
     "text": [
      "6/6 [==============================] - 0s 1ms/step - loss: 0.5012 - auc: 0.8292\n"
     ]
    },
    {
     "data": {
      "text/plain": [
       "[0.5012316703796387, 0.8292282223701477]"
      ]
     },
     "execution_count": 14,
     "metadata": {},
     "output_type": "execute_result"
    }
   ],
   "source": [
    "#模型在测试集上的效果\n",
    "model.evaluate(x = x_test, y = y_test)"
   ]
  },
  {
   "cell_type": "code",
   "execution_count": 15,
   "metadata": {},
   "outputs": [
    {
     "data": {
      "text/plain": [
       "array([[0.0804441 ],\n",
       "       [0.4472255 ],\n",
       "       [0.39659804],\n",
       "       [0.70340335],\n",
       "       [0.43301842],\n",
       "       [0.46348137],\n",
       "       [0.07724178],\n",
       "       [0.7248857 ],\n",
       "       [0.6412253 ],\n",
       "       [0.13294175]], dtype=float32)"
      ]
     },
     "execution_count": 15,
     "metadata": {},
     "output_type": "execute_result"
    }
   ],
   "source": [
    "#预测概率\n",
    "model.predict(x_test[0:10])"
   ]
  },
  {
   "cell_type": "code",
   "execution_count": 16,
   "metadata": {},
   "outputs": [
    {
     "name": "stdout",
     "output_type": "stream",
     "text": [
      "WARNING:tensorflow:From <ipython-input-16-5f955e5cdc0a>:2: Sequential.predict_classes (from tensorflow.python.keras.engine.sequential) is deprecated and will be removed after 2021-01-01.\n",
      "Instructions for updating:\n",
      "Please use instead:* `np.argmax(model.predict(x), axis=-1)`,   if your model does multi-class classification   (e.g. if it uses a `softmax` last-layer activation).* `(model.predict(x) > 0.5).astype(\"int32\")`,   if your model does binary classification   (e.g. if it uses a `sigmoid` last-layer activation).\n"
     ]
    },
    {
     "data": {
      "text/plain": [
       "array([[0],\n",
       "       [0],\n",
       "       [0],\n",
       "       [1],\n",
       "       [0],\n",
       "       [0],\n",
       "       [0],\n",
       "       [1],\n",
       "       [1],\n",
       "       [0]])"
      ]
     },
     "execution_count": 16,
     "metadata": {},
     "output_type": "execute_result"
    }
   ],
   "source": [
    "#预测类别\n",
    "model.predict_classes(x_test[0:10])"
   ]
  },
  {
   "cell_type": "code",
   "execution_count": 17,
   "metadata": {},
   "outputs": [
    {
     "data": {
      "text/plain": [
       "array([[0],\n",
       "       [0],\n",
       "       [0],\n",
       "       [1],\n",
       "       [0],\n",
       "       [0],\n",
       "       [0],\n",
       "       [1],\n",
       "       [1],\n",
       "       [0]])"
      ]
     },
     "execution_count": 17,
     "metadata": {},
     "output_type": "execute_result"
    }
   ],
   "source": [
    "(model.predict(x_test[0:10]) > 0.5).astype('int32')"
   ]
  },
  {
   "cell_type": "code",
   "execution_count": 18,
   "metadata": {},
   "outputs": [
    {
     "name": "stdout",
     "output_type": "stream",
     "text": [
      "6/6 [==============================] - 0s 1ms/step - loss: 0.5012 - auc: 0.8292\n"
     ]
    },
    {
     "data": {
      "text/plain": [
       "[0.5012316703796387, 0.8292282223701477]"
      ]
     },
     "execution_count": 18,
     "metadata": {},
     "output_type": "execute_result"
    }
   ],
   "source": [
    "#保存模型结构及权重\n",
    "model.save('./data/titanic/titanic_model.h5')\n",
    "\n",
    "del model #删除现有模型\n",
    "\n",
    "model = models.load_model('./data/titanic/titanic_model.h5')\n",
    "model.evaluate(x_test, y_test)\n"
   ]
  },
  {
   "cell_type": "code",
   "execution_count": 19,
   "metadata": {},
   "outputs": [
    {
     "name": "stdout",
     "output_type": "stream",
     "text": [
      "6/6 [==============================] - 0s 2ms/step - loss: 0.5012 - auc: 0.8292\n"
     ]
    },
    {
     "data": {
      "text/plain": [
       "[0.5012316703796387, 0.8292282223701477]"
      ]
     },
     "execution_count": 19,
     "metadata": {},
     "output_type": "execute_result"
    }
   ],
   "source": [
    "#保存模型结构\n",
    "json_str = model.to_json()\n",
    "\n",
    "#保存模型参数\n",
    "model.save_weights('./data/titanic/titanic_model_weight.h5')\n",
    "\n",
    "#恢复模型结构\n",
    "model_json = models.model_from_json(json_str)\n",
    "model_json.compile(optimizer='adam',\n",
    "                  loss='binary_crossentropy',\n",
    "                  metrics=['AUC'])\n",
    "\n",
    "#恢复模型参数\n",
    "model_json.load_weights('./data/titanic/titanic_model_weight.h5')\n",
    "model_json.evaluate(x_test, y_test)\n"
   ]
  },
  {
   "cell_type": "code",
   "execution_count": 23,
   "metadata": {},
   "outputs": [
    {
     "name": "stdout",
     "output_type": "stream",
     "text": [
      "WARNING:tensorflow:From C:\\Users\\RuleNHao\\.conda\\envs\\tensorflow_env\\lib\\site-packages\\tensorflow\\python\\training\\tracking\\tracking.py:111: Model.state_updates (from tensorflow.python.keras.engine.training) is deprecated and will be removed in a future version.\n",
      "Instructions for updating:\n",
      "This property should not be used in TensorFlow 2.0, as updates are applied automatically.\n",
      "WARNING:tensorflow:From C:\\Users\\RuleNHao\\.conda\\envs\\tensorflow_env\\lib\\site-packages\\tensorflow\\python\\training\\tracking\\tracking.py:111: Layer.updates (from tensorflow.python.keras.engine.base_layer) is deprecated and will be removed in a future version.\n",
      "Instructions for updating:\n",
      "This property should not be used in TensorFlow 2.0, as updates are applied automatically.\n",
      "INFO:tensorflow:Assets written to: ./data/titanic/titanic_savedmodel_tf\\assets\n",
      "Export saved model\n",
      "6/6 [==============================] - 0s 3ms/step - loss: 0.5012 - auc: 0.8292\n"
     ]
    },
    {
     "data": {
      "text/plain": [
       "[0.5012316703796387, 0.8292282223701477]"
      ]
     },
     "execution_count": 23,
     "metadata": {},
     "output_type": "execute_result"
    }
   ],
   "source": [
    "#tensorflow原生态保存数据\n",
    "#保存权重张量\n",
    "model.save_weights('./data/titanic/titanic_model_weights_tf.ckpt', save_format='tf')\n",
    "\n",
    "#保存模型结构与模型参数\n",
    "model.save('./data/titanic/titanic_savedmodel_tf', save_format='tf')\n",
    "print('Export saved model')\n",
    "\n",
    "model_loaded = tf.keras.models.load_model('./data/titanic/titanic_savedmodel_tf')\n",
    "model_loaded.evaluate(x_test, y_test)"
   ]
  },
  {
   "cell_type": "code",
   "execution_count": null,
   "metadata": {},
   "outputs": [],
   "source": []
  }
 ],
 "metadata": {
  "kernelspec": {
   "display_name": "Python 3",
   "language": "python",
   "name": "python3"
  },
  "language_info": {
   "codemirror_mode": {
    "name": "ipython",
    "version": 3
   },
   "file_extension": ".py",
   "mimetype": "text/x-python",
   "name": "python",
   "nbconvert_exporter": "python",
   "pygments_lexer": "ipython3",
   "version": "3.8.5"
  }
 },
 "nbformat": 4,
 "nbformat_minor": 4
}
